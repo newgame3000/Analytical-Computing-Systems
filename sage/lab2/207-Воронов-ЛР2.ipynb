{
 "cells": [
  {
   "cell_type": "markdown",
   "metadata": {},
   "source": [
    "# Задание 1. Метод прямоугольников, метод трапеций."
   ]
  },
  {
   "cell_type": "markdown",
   "metadata": {},
   "source": [
    "### Заданная функция"
   ]
  },
  {
   "cell_type": "code",
   "execution_count": 28,
   "metadata": {},
   "outputs": [
    {
     "data": {
      "text/html": [
       "<html><script type=\"math/tex; mode=display\">\\newcommand{\\Bold}[1]{\\mathbf{#1}}\\frac{\\log\\left(x - 2\\right) + 1}{x - 2}</script></html>"
      ],
      "text/latex": [
       "\\begin{math}\n",
       "\\newcommand{\\Bold}[1]{\\mathbf{#1}}\\frac{\\log\\left(x - 2\\right) + 1}{x - 2}\n",
       "\\end{math}"
      ],
      "text/plain": [
       "(log(x - 2) + 1)/(x - 2)"
      ]
     },
     "metadata": {},
     "output_type": "display_data"
    }
   ],
   "source": [
    "f(x) = (ln(x-2) + 1) / (x-2)\n",
    "show(f(x))"
   ]
  },
  {
   "cell_type": "code",
   "execution_count": 29,
   "metadata": {},
   "outputs": [],
   "source": [
    "def Rectangle_Trapeze_methods(f, a, b, quantity):\n",
    "    go = (b - a) / quantity\n",
    "    min_f = 0\n",
    "    max_f = 0\n",
    "    f_val = []\n",
    "    \n",
    "    #Подсчёт максимального и минимального значения функции на этом отрезке\n",
    "    for i in range(quantity):\n",
    "        cur = f(a + i * go)\n",
    "        f_val.append(cur)\n",
    "        max_f = max(cur, max_f)\n",
    "        min_f = min(cur, min_f)\n",
    "    paint1 = plot(f(x), xmax = b, xmin = a, ymax = max_f, ymin = min_f, color = \"green\")\n",
    "    cur = f(a + quantity * go)\n",
    "    f_val.append(cur)\n",
    "    \n",
    "    \n",
    "    #Рисовка прямоугольников\n",
    "    for i in range(quantity):\n",
    "        rectangle = [ [a + i * go, 0],\n",
    "                      [a + i * go, f_val[i + 1]],\n",
    "                      [a + (i + 1) * go, f_val[i + 1]],\n",
    "                      [a + (i + 1) * go, 0],\n",
    "                    ]             \n",
    "        paint1 += line (rectangle)\n",
    "    \n",
    "    \n",
    "    #Подсчёт значения интеграла и его вывод\n",
    "    ans = 0\n",
    "    array = []\n",
    "    for i in range(quantity):\n",
    "        ans += ((a + (i + 1) * go) - (a + i * go)) * f_val[i + 1]\n",
    "    array.append(ans)            \n",
    "    \n",
    "    #Подсчёт максимального и минимального значения функции на этом отрезке\n",
    "    for i in range(quantity):\n",
    "        cur = f(a + i * go)\n",
    "        f_val.append(cur)\n",
    "        max_f = max(cur, max_f)\n",
    "        min_f = min(cur, min_f)\n",
    "    paint2 = plot(f, xmax = b, xmin = a, ymax = max_f, ymin = min_f, color = \"black\")\n",
    "    cur = f(a + quantity * go)\n",
    "    f_val.append(cur)\n",
    "    \n",
    "    #Рисовка трапеций\n",
    "    for i in range(quantity):\n",
    "        trapeze = [ [a + i * go, 0],\n",
    "                      [a + i * go, f_val[i]],\n",
    "                      [a + (i + 1) * go, f_val[i + 1]],\n",
    "                      [a + (i + 1) * go, 0],\n",
    "                    ]             \n",
    "        paint2 += line (trapeze, color = \"green\")\n",
    "    \n",
    "    #Подсчёт значения интеграла и его вывод\n",
    "    ans = 0\n",
    "    for i in range(quantity):\n",
    "        ans += go * (f_val[i] + f_val[i + 1]) /2\n",
    "    array.append(ans)               \n",
    "    \n",
    "    graphics_array([paint1, paint2]).show(frame=True, axes=False)\n",
    "    \n",
    "    show(LatexExpr(r'\\int_{' + str(a.n(digits = 6)) + r'}^{' + str(b.n(digits = 6)) + r'} ' + latex(f(x)) + r' \\,dx \\approx ' + str(array[0].n(digits = 6)) + r'\\;' + r'\\int_{' + str(a.n(digits = 6)) + r'}^{' + str(b.n(digits = 6)) + r'} ' + latex(f(x)) + r' \\,dx \\approx ' + str(array[1].n(digits = 6))))\n",
    "       "
   ]
  },
  {
   "cell_type": "code",
   "execution_count": 30,
   "metadata": {},
   "outputs": [],
   "source": [
    "max_q = 100\n",
    "min_q = 1\n",
    "\n",
    "a = 3\n",
    "b = 100"
   ]
  },
  {
   "cell_type": "code",
   "execution_count": 31,
   "metadata": {},
   "outputs": [
    {
     "data": {
      "application/vnd.jupyter.widget-view+json": {
       "model_id": "10931607c37941d58c2b99e9eaf616d7",
       "version_major": 2,
       "version_minor": 0
      },
      "text/plain": [
       "Interactive function <function _ at 0x7f2dd4536af0> with 1 widget\n",
       "  quantity: IntSlider(value=50, description=…"
      ]
     },
     "metadata": {},
     "output_type": "display_data"
    }
   ],
   "source": [
    "@interact\n",
    "def _(quantity = (min_q, max_q, 1)):\n",
    "    Rectangle_Trapeze_methods(f, a, b, quantity)"
   ]
  },
  {
   "cell_type": "markdown",
   "metadata": {},
   "source": [
    "# Задание 2. Полиномы и расширенный алгоритм Евклида."
   ]
  },
  {
   "cell_type": "markdown",
   "metadata": {},
   "source": [
    "### Вариант 1"
   ]
  },
  {
   "cell_type": "code",
   "execution_count": 32,
   "metadata": {},
   "outputs": [
    {
     "data": {
      "text/html": [
       "<html><script type=\"math/tex; mode=display\">\\newcommand{\\Bold}[1]{\\mathbf{#1}}x^{4} - 4 \\, x^{3} + 7 \\, x^{2} - 5 \\, x + 1</script></html>"
      ],
      "text/latex": [
       "\\begin{math}\n",
       "\\newcommand{\\Bold}[1]{\\mathbf{#1}}x^{4} - 4 \\, x^{3} + 7 \\, x^{2} - 5 \\, x + 1\n",
       "\\end{math}"
      ],
      "text/plain": [
       "x^4 - 4*x^3 + 7*x^2 - 5*x + 1"
      ]
     },
     "metadata": {},
     "output_type": "display_data"
    },
    {
     "data": {
      "text/html": [
       "<html><script type=\"math/tex; mode=display\">\\newcommand{\\Bold}[1]{\\mathbf{#1}}x^{5} - x^{4} - x^{3} + x^{2} + 5 \\, x - 5</script></html>"
      ],
      "text/latex": [
       "\\begin{math}\n",
       "\\newcommand{\\Bold}[1]{\\mathbf{#1}}x^{5} - x^{4} - x^{3} + x^{2} + 5 \\, x - 5\n",
       "\\end{math}"
      ],
      "text/plain": [
       "x^5 - x^4 - x^3 + x^2 + 5*x - 5"
      ]
     },
     "metadata": {},
     "output_type": "display_data"
    }
   ],
   "source": [
    "f = x^4 - 4*x^3 + 7*x^2 - 5*x + 1\n",
    "g = x^5 - x^4 - x^3 + x^2 + 5*x - 5\n",
    "show(f)\n",
    "show(g)"
   ]
  },
  {
   "cell_type": "code",
   "execution_count": 33,
   "metadata": {},
   "outputs": [],
   "source": [
    "def advanced_gcd(a, b):\n",
    "    x, xx, y, yy = 1, 0, 0, 1\n",
    "    while b:\n",
    "        c = a % b\n",
    "        q = (a - c) / b\n",
    "        a, b = b, c\n",
    "        x, xx = xx, x - xx*q\n",
    "        y, yy = yy, y - yy*q\n",
    "    return (x, y, a)"
   ]
  },
  {
   "cell_type": "code",
   "execution_count": 34,
   "metadata": {},
   "outputs": [],
   "source": [
    "R.<x> = QQ[\"x\"]"
   ]
  },
  {
   "cell_type": "code",
   "execution_count": 35,
   "metadata": {},
   "outputs": [
    {
     "ename": "TypeError",
     "evalue": "unsupported operand parent(s) for %: 'Symbolic Ring' and 'Symbolic Ring'",
     "output_type": "error",
     "traceback": [
      "\u001b[0;31m---------------------------------------------------------------------------\u001b[0m",
      "\u001b[0;31mAttributeError\u001b[0m                            Traceback (most recent call last)",
      "\u001b[0;32m/opt/SageMath/local/lib/python3.8/site-packages/sage/structure/element.pyx\u001b[0m in \u001b[0;36msage.structure.element.Element._mod_ (build/cythonized/sage/structure/element.c:14197)\u001b[0;34m()\u001b[0m\n\u001b[1;32m   1968\u001b[0m         \u001b[0;32mtry\u001b[0m\u001b[0;34m:\u001b[0m\u001b[0;34m\u001b[0m\u001b[0;34m\u001b[0m\u001b[0m\n\u001b[0;32m-> 1969\u001b[0;31m             \u001b[0mpython_op\u001b[0m \u001b[0;34m=\u001b[0m \u001b[0;34m(\u001b[0m\u001b[0;34m<\u001b[0m\u001b[0mobject\u001b[0m\u001b[0;34m>\u001b[0m\u001b[0mself\u001b[0m\u001b[0;34m)\u001b[0m\u001b[0;34m.\u001b[0m\u001b[0m_mod_\u001b[0m\u001b[0;34m\u001b[0m\u001b[0;34m\u001b[0m\u001b[0m\n\u001b[0m\u001b[1;32m   1970\u001b[0m         \u001b[0;32mexcept\u001b[0m \u001b[0mAttributeError\u001b[0m\u001b[0;34m:\u001b[0m\u001b[0;34m\u001b[0m\u001b[0;34m\u001b[0m\u001b[0m\n",
      "\u001b[0;32m/opt/SageMath/local/lib/python3.8/site-packages/sage/structure/element.pyx\u001b[0m in \u001b[0;36msage.structure.element.Element.__getattr__ (build/cythonized/sage/structure/element.c:4703)\u001b[0;34m()\u001b[0m\n\u001b[1;32m    492\u001b[0m         \"\"\"\n\u001b[0;32m--> 493\u001b[0;31m         \u001b[0;32mreturn\u001b[0m \u001b[0mself\u001b[0m\u001b[0;34m.\u001b[0m\u001b[0mgetattr_from_category\u001b[0m\u001b[0;34m(\u001b[0m\u001b[0mname\u001b[0m\u001b[0;34m)\u001b[0m\u001b[0;34m\u001b[0m\u001b[0;34m\u001b[0m\u001b[0m\n\u001b[0m\u001b[1;32m    494\u001b[0m \u001b[0;34m\u001b[0m\u001b[0m\n",
      "\u001b[0;32m/opt/SageMath/local/lib/python3.8/site-packages/sage/structure/element.pyx\u001b[0m in \u001b[0;36msage.structure.element.Element.getattr_from_category (build/cythonized/sage/structure/element.c:4815)\u001b[0;34m()\u001b[0m\n\u001b[1;32m    505\u001b[0m             \u001b[0mcls\u001b[0m \u001b[0;34m=\u001b[0m \u001b[0mP\u001b[0m\u001b[0;34m.\u001b[0m\u001b[0m_abstract_element_class\u001b[0m\u001b[0;34m\u001b[0m\u001b[0;34m\u001b[0m\u001b[0m\n\u001b[0;32m--> 506\u001b[0;31m         \u001b[0;32mreturn\u001b[0m \u001b[0mgetattr_from_other_class\u001b[0m\u001b[0;34m(\u001b[0m\u001b[0mself\u001b[0m\u001b[0;34m,\u001b[0m \u001b[0mcls\u001b[0m\u001b[0;34m,\u001b[0m \u001b[0mname\u001b[0m\u001b[0;34m)\u001b[0m\u001b[0;34m\u001b[0m\u001b[0;34m\u001b[0m\u001b[0m\n\u001b[0m\u001b[1;32m    507\u001b[0m \u001b[0;34m\u001b[0m\u001b[0m\n",
      "\u001b[0;32m/opt/SageMath/local/lib/python3.8/site-packages/sage/cpython/getattr.pyx\u001b[0m in \u001b[0;36msage.cpython.getattr.getattr_from_other_class (build/cythonized/sage/cpython/getattr.c:2619)\u001b[0;34m()\u001b[0m\n\u001b[1;32m    371\u001b[0m         \u001b[0mdummy_error_message\u001b[0m\u001b[0;34m.\u001b[0m\u001b[0mname\u001b[0m \u001b[0;34m=\u001b[0m \u001b[0mname\u001b[0m\u001b[0;34m\u001b[0m\u001b[0;34m\u001b[0m\u001b[0m\n\u001b[0;32m--> 372\u001b[0;31m         \u001b[0;32mraise\u001b[0m \u001b[0mAttributeError\u001b[0m\u001b[0;34m(\u001b[0m\u001b[0mdummy_error_message\u001b[0m\u001b[0;34m)\u001b[0m\u001b[0;34m\u001b[0m\u001b[0;34m\u001b[0m\u001b[0m\n\u001b[0m\u001b[1;32m    373\u001b[0m     \u001b[0mattribute\u001b[0m \u001b[0;34m=\u001b[0m \u001b[0;34m<\u001b[0m\u001b[0mobject\u001b[0m\u001b[0;34m>\u001b[0m\u001b[0mattr\u001b[0m\u001b[0;34m\u001b[0m\u001b[0;34m\u001b[0m\u001b[0m\n",
      "\u001b[0;31mAttributeError\u001b[0m: 'sage.symbolic.ring.SymbolicRing' object has no attribute '__custom_name'",
      "\nDuring handling of the above exception, another exception occurred:\n",
      "\u001b[0;31mTypeError\u001b[0m                                 Traceback (most recent call last)",
      "\u001b[0;32m<ipython-input-35-36f6624d2011>\u001b[0m in \u001b[0;36m<module>\u001b[0;34m\u001b[0m\n\u001b[0;32m----> 1\u001b[0;31m \u001b[0mu\u001b[0m\u001b[0;34m,\u001b[0m \u001b[0mv\u001b[0m\u001b[0;34m,\u001b[0m \u001b[0mn\u001b[0m \u001b[0;34m=\u001b[0m \u001b[0madvanced_gcd\u001b[0m\u001b[0;34m(\u001b[0m\u001b[0mf\u001b[0m\u001b[0;34m,\u001b[0m\u001b[0mg\u001b[0m\u001b[0;34m)\u001b[0m\u001b[0;34m\u001b[0m\u001b[0;34m\u001b[0m\u001b[0m\n\u001b[0m",
      "\u001b[0;32m<ipython-input-33-9afa1869c853>\u001b[0m in \u001b[0;36madvanced_gcd\u001b[0;34m(a, b)\u001b[0m\n\u001b[1;32m      2\u001b[0m     \u001b[0mx\u001b[0m\u001b[0;34m,\u001b[0m \u001b[0mxx\u001b[0m\u001b[0;34m,\u001b[0m \u001b[0my\u001b[0m\u001b[0;34m,\u001b[0m \u001b[0myy\u001b[0m \u001b[0;34m=\u001b[0m \u001b[0mInteger\u001b[0m\u001b[0;34m(\u001b[0m\u001b[0;36m1\u001b[0m\u001b[0;34m)\u001b[0m\u001b[0;34m,\u001b[0m \u001b[0mInteger\u001b[0m\u001b[0;34m(\u001b[0m\u001b[0;36m0\u001b[0m\u001b[0;34m)\u001b[0m\u001b[0;34m,\u001b[0m \u001b[0mInteger\u001b[0m\u001b[0;34m(\u001b[0m\u001b[0;36m0\u001b[0m\u001b[0;34m)\u001b[0m\u001b[0;34m,\u001b[0m \u001b[0mInteger\u001b[0m\u001b[0;34m(\u001b[0m\u001b[0;36m1\u001b[0m\u001b[0;34m)\u001b[0m\u001b[0;34m\u001b[0m\u001b[0;34m\u001b[0m\u001b[0m\n\u001b[1;32m      3\u001b[0m     \u001b[0;32mwhile\u001b[0m \u001b[0mb\u001b[0m\u001b[0;34m:\u001b[0m\u001b[0;34m\u001b[0m\u001b[0;34m\u001b[0m\u001b[0m\n\u001b[0;32m----> 4\u001b[0;31m         \u001b[0mc\u001b[0m \u001b[0;34m=\u001b[0m \u001b[0ma\u001b[0m \u001b[0;34m%\u001b[0m \u001b[0mb\u001b[0m\u001b[0;34m\u001b[0m\u001b[0;34m\u001b[0m\u001b[0m\n\u001b[0m\u001b[1;32m      5\u001b[0m         \u001b[0mq\u001b[0m \u001b[0;34m=\u001b[0m \u001b[0;34m(\u001b[0m\u001b[0ma\u001b[0m \u001b[0;34m-\u001b[0m \u001b[0mc\u001b[0m\u001b[0;34m)\u001b[0m \u001b[0;34m/\u001b[0m \u001b[0mb\u001b[0m\u001b[0;34m\u001b[0m\u001b[0;34m\u001b[0m\u001b[0m\n\u001b[1;32m      6\u001b[0m         \u001b[0ma\u001b[0m\u001b[0;34m,\u001b[0m \u001b[0mb\u001b[0m \u001b[0;34m=\u001b[0m \u001b[0mb\u001b[0m\u001b[0;34m,\u001b[0m \u001b[0mc\u001b[0m\u001b[0;34m\u001b[0m\u001b[0;34m\u001b[0m\u001b[0m\n",
      "\u001b[0;32m/opt/SageMath/local/lib/python3.8/site-packages/sage/structure/element.pyx\u001b[0m in \u001b[0;36msage.structure.element.Element.__mod__ (build/cythonized/sage/structure/element.c:13973)\u001b[0;34m()\u001b[0m\n\u001b[1;32m   1934\u001b[0m         \u001b[0mcdef\u001b[0m \u001b[0mint\u001b[0m \u001b[0mcl\u001b[0m \u001b[0;34m=\u001b[0m \u001b[0mclassify_elements\u001b[0m\u001b[0;34m(\u001b[0m\u001b[0mleft\u001b[0m\u001b[0;34m,\u001b[0m \u001b[0mright\u001b[0m\u001b[0;34m)\u001b[0m\u001b[0;34m\u001b[0m\u001b[0;34m\u001b[0m\u001b[0m\n\u001b[1;32m   1935\u001b[0m         \u001b[0;32mif\u001b[0m \u001b[0mHAVE_SAME_PARENT\u001b[0m\u001b[0;34m(\u001b[0m\u001b[0mcl\u001b[0m\u001b[0;34m)\u001b[0m\u001b[0;34m:\u001b[0m\u001b[0;34m\u001b[0m\u001b[0;34m\u001b[0m\u001b[0m\n\u001b[0;32m-> 1936\u001b[0;31m             \u001b[0;32mreturn\u001b[0m \u001b[0;34m(\u001b[0m\u001b[0;34m<\u001b[0m\u001b[0mElement\u001b[0m\u001b[0;34m>\u001b[0m\u001b[0mleft\u001b[0m\u001b[0;34m)\u001b[0m\u001b[0;34m.\u001b[0m\u001b[0m_mod_\u001b[0m\u001b[0;34m(\u001b[0m\u001b[0mright\u001b[0m\u001b[0;34m)\u001b[0m\u001b[0;34m\u001b[0m\u001b[0;34m\u001b[0m\u001b[0m\n\u001b[0m\u001b[1;32m   1937\u001b[0m         \u001b[0;32mif\u001b[0m \u001b[0mBOTH_ARE_ELEMENT\u001b[0m\u001b[0;34m(\u001b[0m\u001b[0mcl\u001b[0m\u001b[0;34m)\u001b[0m\u001b[0;34m:\u001b[0m\u001b[0;34m\u001b[0m\u001b[0;34m\u001b[0m\u001b[0m\n\u001b[1;32m   1938\u001b[0m             \u001b[0;32mreturn\u001b[0m \u001b[0mcoercion_model\u001b[0m\u001b[0;34m.\u001b[0m\u001b[0mbin_op\u001b[0m\u001b[0;34m(\u001b[0m\u001b[0mleft\u001b[0m\u001b[0;34m,\u001b[0m \u001b[0mright\u001b[0m\u001b[0;34m,\u001b[0m \u001b[0mmod\u001b[0m\u001b[0;34m)\u001b[0m\u001b[0;34m\u001b[0m\u001b[0;34m\u001b[0m\u001b[0m\n",
      "\u001b[0;32m/opt/SageMath/local/lib/python3.8/site-packages/sage/structure/element.pyx\u001b[0m in \u001b[0;36msage.structure.element.Element._mod_ (build/cythonized/sage/structure/element.c:14269)\u001b[0;34m()\u001b[0m\n\u001b[1;32m   1969\u001b[0m             \u001b[0mpython_op\u001b[0m \u001b[0;34m=\u001b[0m \u001b[0;34m(\u001b[0m\u001b[0;34m<\u001b[0m\u001b[0mobject\u001b[0m\u001b[0;34m>\u001b[0m\u001b[0mself\u001b[0m\u001b[0;34m)\u001b[0m\u001b[0;34m.\u001b[0m\u001b[0m_mod_\u001b[0m\u001b[0;34m\u001b[0m\u001b[0;34m\u001b[0m\u001b[0m\n\u001b[1;32m   1970\u001b[0m         \u001b[0;32mexcept\u001b[0m \u001b[0mAttributeError\u001b[0m\u001b[0;34m:\u001b[0m\u001b[0;34m\u001b[0m\u001b[0;34m\u001b[0m\u001b[0m\n\u001b[0;32m-> 1971\u001b[0;31m             \u001b[0;32mraise\u001b[0m \u001b[0mbin_op_exception\u001b[0m\u001b[0;34m(\u001b[0m\u001b[0;34m'%'\u001b[0m\u001b[0;34m,\u001b[0m \u001b[0mself\u001b[0m\u001b[0;34m,\u001b[0m \u001b[0mother\u001b[0m\u001b[0;34m)\u001b[0m\u001b[0;34m\u001b[0m\u001b[0;34m\u001b[0m\u001b[0m\n\u001b[0m\u001b[1;32m   1972\u001b[0m         \u001b[0;32melse\u001b[0m\u001b[0;34m:\u001b[0m\u001b[0;34m\u001b[0m\u001b[0;34m\u001b[0m\u001b[0m\n\u001b[1;32m   1973\u001b[0m             \u001b[0;32mreturn\u001b[0m \u001b[0mpython_op\u001b[0m\u001b[0;34m(\u001b[0m\u001b[0mother\u001b[0m\u001b[0;34m)\u001b[0m\u001b[0;34m\u001b[0m\u001b[0;34m\u001b[0m\u001b[0m\n",
      "\u001b[0;31mTypeError\u001b[0m: unsupported operand parent(s) for %: 'Symbolic Ring' and 'Symbolic Ring'"
     ]
    }
   ],
   "source": [
    "u, v, n = advanced_gcd(f,g)"
   ]
  },
  {
   "cell_type": "code",
   "execution_count": null,
   "metadata": {},
   "outputs": [],
   "source": [
    "show(LatexExpr(\"gcd(f, g) = \"), gcd(f, g))\n",
    "show(LatexExpr(r\"advanced\\_gcd(f, g) = \"), n)\n",
    "show(LatexExpr(\"u(x) = \"), u)\n",
    "show(LatexExpr(\"v(x) = \"), v)\n",
    "show(LatexExpr(r\"(f*u + g*v = n) \\equiv \"), f*u + g*v == n)\n",
    "show(LatexExpr(r\"({})*({}) + ({})({}) = {}\".format(*(latex(i) for i in (f, u, g, v, n)))))"
   ]
  },
  {
   "cell_type": "markdown",
   "metadata": {},
   "source": [
    "# Задание 3. Уравнение поверхности второго порядка."
   ]
  },
  {
   "cell_type": "markdown",
   "metadata": {},
   "source": [
    "### Вариант 6"
   ]
  },
  {
   "cell_type": "code",
   "execution_count": 36,
   "metadata": {},
   "outputs": [
    {
     "data": {
      "text/html": [
       "<html><script type=\"math/tex; mode=display\">\\newcommand{\\Bold}[1]{\\mathbf{#1}}-2 \\, y^{2} + 4 \\, y z - 3 \\, z^{2} + 4 \\, y + 4 \\, z - 12</script></html>"
      ],
      "text/latex": [
       "\\begin{math}\n",
       "\\newcommand{\\Bold}[1]{\\mathbf{#1}}-2 \\, y^{2} + 4 \\, y z - 3 \\, z^{2} + 4 \\, y + 4 \\, z - 12\n",
       "\\end{math}"
      ],
      "text/plain": [
       "-2*y^2 + 4*y*z - 3*z^2 + 4*y + 4*z - 12"
      ]
     },
     "metadata": {},
     "output_type": "display_data"
    }
   ],
   "source": [
    "var(\"y z\")\n",
    "show(-2*y^2 + 4*y*z - 3*z^2 + 4*y + 4*z - 12)"
   ]
  },
  {
   "cell_type": "code",
   "execution_count": 37,
   "metadata": {},
   "outputs": [
    {
     "data": {
      "text/html": [
       "<html><script type=\"math/tex; mode=display\">\\newcommand{\\Bold}[1]{\\mathbf{#1}}A =  \\left(\\begin{array}{rrr}\n",
       "0 & 0 & 0 \\\\\n",
       "0 & -2 & 2 \\\\\n",
       "0 & 2 & -3\n",
       "\\end{array}\\right)</script></html>"
      ],
      "text/latex": [
       "\\begin{math}\n",
       "\\newcommand{\\Bold}[1]{\\mathbf{#1}}A =  \\left(\\begin{array}{rrr}\n",
       "0 & 0 & 0 \\\\\n",
       "0 & -2 & 2 \\\\\n",
       "0 & 2 & -3\n",
       "\\end{array}\\right)\n",
       "\\end{math}"
      ],
      "text/plain": [
       "A =  [ 0  0  0]\n",
       "[ 0 -2  2]\n",
       "[ 0  2 -3]"
      ]
     },
     "metadata": {},
     "output_type": "display_data"
    },
    {
     "data": {
      "text/html": [
       "<html><script type=\"math/tex; mode=display\">\\newcommand{\\Bold}[1]{\\mathbf{#1}}B =  \\left(0,\\,4,\\,4\\right)</script></html>"
      ],
      "text/latex": [
       "\\begin{math}\n",
       "\\newcommand{\\Bold}[1]{\\mathbf{#1}}B =  \\left(0,\\,4,\\,4\\right)\n",
       "\\end{math}"
      ],
      "text/plain": [
       "B =  (0, 4, 4)"
      ]
     },
     "metadata": {},
     "output_type": "display_data"
    },
    {
     "data": {
      "text/html": [
       "<html><script type=\"math/tex; mode=display\">\\newcommand{\\Bold}[1]{\\mathbf{#1}}a_0 =  -12</script></html>"
      ],
      "text/latex": [
       "\\begin{math}\n",
       "\\newcommand{\\Bold}[1]{\\mathbf{#1}}a_0 =  -12\n",
       "\\end{math}"
      ],
      "text/plain": [
       "a_0 =  -12"
      ]
     },
     "metadata": {},
     "output_type": "display_data"
    }
   ],
   "source": [
    "A = matrix([\n",
    "    [0, 0, 0],\n",
    "    [0, -2, 2],\n",
    "    [0, 2, -3]\n",
    "])\n",
    "B = vector([0, 4, 4])\n",
    "a0 = -12\n",
    "\n",
    "show(LatexExpr(\"A = \"), A)\n",
    "show(LatexExpr(\"B = \"), B)\n",
    "show(LatexExpr(\"a_0 = \"), a0)"
   ]
  },
  {
   "cell_type": "markdown",
   "metadata": {},
   "source": [
    "### Характеристическое уравнение"
   ]
  },
  {
   "cell_type": "code",
   "execution_count": 38,
   "metadata": {},
   "outputs": [
    {
     "data": {
      "text/html": [
       "<html><script type=\"math/tex; mode=display\">\\newcommand{\\Bold}[1]{\\mathbf{#1}}-{\\lambda}^{3} - 5 \\, {\\lambda}^{2} - 2 \\, {\\lambda}  = 0</script></html>"
      ],
      "text/latex": [
       "\\begin{math}\n",
       "\\newcommand{\\Bold}[1]{\\mathbf{#1}}-{\\lambda}^{3} - 5 \\, {\\lambda}^{2} - 2 \\, {\\lambda}  = 0\n",
       "\\end{math}"
      ],
      "text/plain": [
       "-l^3 - 5*l^2 - 2*l  = 0"
      ]
     },
     "metadata": {},
     "output_type": "display_data"
    }
   ],
   "source": [
    "var('l', latex_name = r\"\\lambda\")\n",
    "equation_matrix = A - l * identity_matrix(3)\n",
    "det = equation_matrix.det()\n",
    "det = det.simplify_full()\n",
    "show(det, LatexExpr(\" = 0\"))"
   ]
  },
  {
   "cell_type": "markdown",
   "metadata": {},
   "source": [
    "### Собственные значения"
   ]
  },
  {
   "cell_type": "code",
   "execution_count": 39,
   "metadata": {},
   "outputs": [
    {
     "data": {
      "text/html": [
       "<html><script type=\"math/tex; mode=display\">\\newcommand{\\Bold}[1]{\\mathbf{#1}}\\lambda_0 =  -4.5616</script></html>"
      ],
      "text/latex": [
       "\\begin{math}\n",
       "\\newcommand{\\Bold}[1]{\\mathbf{#1}}\\lambda_0 =  -4.5616\n",
       "\\end{math}"
      ],
      "text/plain": [
       "\\lambda_0 =  -4.5616"
      ]
     },
     "metadata": {},
     "output_type": "display_data"
    },
    {
     "data": {
      "text/html": [
       "<html><script type=\"math/tex; mode=display\">\\newcommand{\\Bold}[1]{\\mathbf{#1}}\\lambda_1 =  -0.43845</script></html>"
      ],
      "text/latex": [
       "\\begin{math}\n",
       "\\newcommand{\\Bold}[1]{\\mathbf{#1}}\\lambda_1 =  -0.43845\n",
       "\\end{math}"
      ],
      "text/plain": [
       "\\lambda_1 =  -0.43845"
      ]
     },
     "metadata": {},
     "output_type": "display_data"
    },
    {
     "data": {
      "text/html": [
       "<html><script type=\"math/tex; mode=display\">\\newcommand{\\Bold}[1]{\\mathbf{#1}}\\lambda_2 =  0.00000</script></html>"
      ],
      "text/latex": [
       "\\begin{math}\n",
       "\\newcommand{\\Bold}[1]{\\mathbf{#1}}\\lambda_2 =  0.00000\n",
       "\\end{math}"
      ],
      "text/plain": [
       "\\lambda_2 =  0.00000"
      ]
     },
     "metadata": {},
     "output_type": "display_data"
    }
   ],
   "source": [
    "lambdas = []\n",
    "j = 0\n",
    "\n",
    "for i in solve(det == 0, l):\n",
    "    lambdas.append(i.rhs())\n",
    "    show(LatexExpr(r\"\\lambda_{} = \".format(j)), i.rhs().n(digits = 5))\n",
    "    j += 1"
   ]
  },
  {
   "cell_type": "markdown",
   "metadata": {},
   "source": [
    "### Собственные векторы"
   ]
  },
  {
   "cell_type": "code",
   "execution_count": 40,
   "metadata": {},
   "outputs": [
    {
     "data": {
      "text/html": [
       "<html><script type=\"math/tex; mode=display\">\\newcommand{\\Bold}[1]{\\mathbf{#1}}s_0 =  \\left(0.00000,\\,1.0000,\\,-1.2808\\right)</script></html>"
      ],
      "text/latex": [
       "\\begin{math}\n",
       "\\newcommand{\\Bold}[1]{\\mathbf{#1}}s_0 =  \\left(0.00000,\\,1.0000,\\,-1.2808\\right)\n",
       "\\end{math}"
      ],
      "text/plain": [
       "s_0 =  (0.00000, 1.0000, -1.2808)"
      ]
     },
     "metadata": {},
     "output_type": "display_data"
    },
    {
     "data": {
      "text/html": [
       "<html><script type=\"math/tex; mode=display\">\\newcommand{\\Bold}[1]{\\mathbf{#1}}s_1 =  \\left(0.00000,\\,1.0000,\\,0.78078\\right)</script></html>"
      ],
      "text/latex": [
       "\\begin{math}\n",
       "\\newcommand{\\Bold}[1]{\\mathbf{#1}}s_1 =  \\left(0.00000,\\,1.0000,\\,0.78078\\right)\n",
       "\\end{math}"
      ],
      "text/plain": [
       "s_1 =  (0.00000, 1.0000, 0.78078)"
      ]
     },
     "metadata": {},
     "output_type": "display_data"
    },
    {
     "data": {
      "text/html": [
       "<html><script type=\"math/tex; mode=display\">\\newcommand{\\Bold}[1]{\\mathbf{#1}}s_2 =  \\left(1.0000,\\,0.00000,\\,0.00000\\right)</script></html>"
      ],
      "text/latex": [
       "\\begin{math}\n",
       "\\newcommand{\\Bold}[1]{\\mathbf{#1}}s_2 =  \\left(1.0000,\\,0.00000,\\,0.00000\\right)\n",
       "\\end{math}"
      ],
      "text/plain": [
       "s_2 =  (1.0000, 0.00000, 0.00000)"
      ]
     },
     "metadata": {},
     "output_type": "display_data"
    }
   ],
   "source": [
    "vectors = []\n",
    "\n",
    "for i in range(len(lambdas)):\n",
    "    vectors.append(vector(RR, *(A-lambdas[i] * identity_matrix(3)).right_kernel().basis()))\n",
    "for i in range(len(vectors)):\n",
    "    show(LatexExpr(\"s_{} = \".format(i)), vectors[i].n(digits = 5))"
   ]
  },
  {
   "cell_type": "markdown",
   "metadata": {},
   "source": [
    "### Проверка собственных значений и векторов"
   ]
  },
  {
   "cell_type": "code",
   "execution_count": 41,
   "metadata": {},
   "outputs": [
    {
     "data": {
      "text/html": [
       "<html><script type=\"math/tex; mode=display\">\\newcommand{\\Bold}[1]{\\mathbf{#1}}\\lambda_0 = 0.00000, \\: s_0 = [\n",
       "(1, 0, 0)\n",
       "] \\: (кратность \\: 1)</script></html>"
      ],
      "text/latex": [
       "\\begin{math}\n",
       "\\newcommand{\\Bold}[1]{\\mathbf{#1}}\\lambda_0 = 0.00000, \\: s_0 = [\n",
       "(1, 0, 0)\n",
       "] \\: (кратность \\: 1)\n",
       "\\end{math}"
      ],
      "text/plain": [
       "\\lambda_0 = 0.00000, \\: s_0 = [\n",
       "(1, 0, 0)\n",
       "] \\: (кратность \\: 1)"
      ]
     },
     "metadata": {},
     "output_type": "display_data"
    },
    {
     "data": {
      "text/html": [
       "<html><script type=\"math/tex; mode=display\">\\newcommand{\\Bold}[1]{\\mathbf{#1}}\\lambda_1 = -4.5616, \\: s_1 = [(0, 1, -1.280776406404415?)] \\: (кратность \\: 1)</script></html>"
      ],
      "text/latex": [
       "\\begin{math}\n",
       "\\newcommand{\\Bold}[1]{\\mathbf{#1}}\\lambda_1 = -4.5616, \\: s_1 = [(0, 1, -1.280776406404415?)] \\: (кратность \\: 1)\n",
       "\\end{math}"
      ],
      "text/plain": [
       "\\lambda_1 = -4.5616, \\: s_1 = [(0, 1, -1.280776406404415?)] \\: (кратность \\: 1)"
      ]
     },
     "metadata": {},
     "output_type": "display_data"
    },
    {
     "data": {
      "text/html": [
       "<html><script type=\"math/tex; mode=display\">\\newcommand{\\Bold}[1]{\\mathbf{#1}}\\lambda_2 = -0.43845, \\: s_2 = [(0, 1, 0.7807764064044151?)] \\: (кратность \\: 1)</script></html>"
      ],
      "text/latex": [
       "\\begin{math}\n",
       "\\newcommand{\\Bold}[1]{\\mathbf{#1}}\\lambda_2 = -0.43845, \\: s_2 = [(0, 1, 0.7807764064044151?)] \\: (кратность \\: 1)\n",
       "\\end{math}"
      ],
      "text/plain": [
       "\\lambda_2 = -0.43845, \\: s_2 = [(0, 1, 0.7807764064044151?)] \\: (кратность \\: 1)"
      ]
     },
     "metadata": {},
     "output_type": "display_data"
    }
   ],
   "source": [
    "for i, a in enumerate(A.eigenvectors_right()):\n",
    "    show(LatexExpr(r\"\\lambda_{} = {}, \\: s_{} = {} \\: (кратность \\: {})\".format(i, a[0].n(digits = 5), i, a[1], a[2])))"
   ]
  },
  {
   "cell_type": "markdown",
   "metadata": {},
   "source": [
    "### Матрица перехода из нормированных собственных векторов"
   ]
  },
  {
   "cell_type": "code",
   "execution_count": 42,
   "metadata": {},
   "outputs": [
    {
     "data": {
      "text/html": [
       "<html><script type=\"math/tex; mode=display\">\\newcommand{\\Bold}[1]{\\mathbf{#1}}S =  \\left(\\begin{array}{rrr}\n",
       "0.00000 & 0.00000 & 1.0000 \\\\\n",
       "0.61541 & 0.78821 & 0.00000 \\\\\n",
       "-0.78821 & 0.61541 & 0.00000\n",
       "\\end{array}\\right)</script></html>"
      ],
      "text/latex": [
       "\\begin{math}\n",
       "\\newcommand{\\Bold}[1]{\\mathbf{#1}}S =  \\left(\\begin{array}{rrr}\n",
       "0.00000 & 0.00000 & 1.0000 \\\\\n",
       "0.61541 & 0.78821 & 0.00000 \\\\\n",
       "-0.78821 & 0.61541 & 0.00000\n",
       "\\end{array}\\right)\n",
       "\\end{math}"
      ],
      "text/plain": [
       "S =  [ 0.00000  0.00000   1.0000]\n",
       "[ 0.61541  0.78821  0.00000]\n",
       "[-0.78821  0.61541  0.00000]"
      ]
     },
     "metadata": {},
     "output_type": "display_data"
    }
   ],
   "source": [
    "S = list()\n",
    "for i in range(len(vectors)):\n",
    "    S.append(vectors[i] / sqrt(vectors[i] * vectors[i]))\n",
    "S = matrix(S).T\n",
    "show(LatexExpr(\"S = \"), S.n(digits=5))"
   ]
  },
  {
   "cell_type": "markdown",
   "metadata": {},
   "source": [
    "### Диагональная матрица"
   ]
  },
  {
   "cell_type": "code",
   "execution_count": 43,
   "metadata": {},
   "outputs": [
    {
     "data": {
      "text/html": [
       "<html><script type=\"math/tex; mode=display\">\\newcommand{\\Bold}[1]{\\mathbf{#1}}S^T * A * S =  \\left(\\begin{array}{rrr}\n",
       "-4.5616 & 0.00000 & 0.00000 \\\\\n",
       "8.3267 \\times 10^{-17} & -0.43845 & 0.00000 \\\\\n",
       "0.00000 & 0.00000 & 0.00000\n",
       "\\end{array}\\right)</script></html>"
      ],
      "text/latex": [
       "\\begin{math}\n",
       "\\newcommand{\\Bold}[1]{\\mathbf{#1}}S^T * A * S =  \\left(\\begin{array}{rrr}\n",
       "-4.5616 & 0.00000 & 0.00000 \\\\\n",
       "8.3267 \\times 10^{-17} & -0.43845 & 0.00000 \\\\\n",
       "0.00000 & 0.00000 & 0.00000\n",
       "\\end{array}\\right)\n",
       "\\end{math}"
      ],
      "text/plain": [
       "S^T * A * S =  [   -4.5616    0.00000    0.00000]\n",
       "[8.3267e-17   -0.43845    0.00000]\n",
       "[   0.00000    0.00000    0.00000]"
      ]
     },
     "metadata": {},
     "output_type": "display_data"
    }
   ],
   "source": [
    "D = S.T * A * S\n",
    "show(LatexExpr(r\"S^T * A * S = \"), D.n(digits=5))"
   ]
  },
  {
   "cell_type": "markdown",
   "metadata": {},
   "source": [
    "### Преобразование коэффициентов линейной формы"
   ]
  },
  {
   "cell_type": "code",
   "execution_count": 44,
   "metadata": {},
   "outputs": [
    {
     "data": {
      "text/html": [
       "<html><script type=\"math/tex; mode=display\">\\newcommand{\\Bold}[1]{\\mathbf{#1}}B' = S^T * B =  \\left(-0.69117,\\,5.6145,\\,0.00000\\right)</script></html>"
      ],
      "text/latex": [
       "\\begin{math}\n",
       "\\newcommand{\\Bold}[1]{\\mathbf{#1}}B' = S^T * B =  \\left(-0.69117,\\,5.6145,\\,0.00000\\right)\n",
       "\\end{math}"
      ],
      "text/plain": [
       "B' = S^T * B =  (-0.69117, 5.6145, 0.00000)"
      ]
     },
     "metadata": {},
     "output_type": "display_data"
    }
   ],
   "source": [
    "B1 = S.T * B\n",
    "show(LatexExpr(\"B' = S^T * B = \"), B1.n(digits=5))"
   ]
  },
  {
   "cell_type": "markdown",
   "metadata": {},
   "source": [
    "### Почти приведенное уравнение"
   ]
  },
  {
   "cell_type": "code",
   "execution_count": 45,
   "metadata": {},
   "outputs": [
    {
     "data": {
      "text/html": [
       "<html><script type=\"math/tex; mode=display\">\\newcommand{\\Bold}[1]{\\mathbf{#1}}-4.56155281280883 \\, x^{2} - 0.438447187191170 \\, y^{2} - 0.691172914453894 \\, x + 5.61447058967498 \\, y - 12.0000000000000 = 0</script></html>"
      ],
      "text/latex": [
       "\\begin{math}\n",
       "\\newcommand{\\Bold}[1]{\\mathbf{#1}}-4.56155281280883 \\, x^{2} - 0.438447187191170 \\, y^{2} - 0.691172914453894 \\, x + 5.61447058967498 \\, y - 12.0000000000000 = 0\n",
       "\\end{math}"
      ],
      "text/plain": [
       "-4.56155281280883*x^2 - 0.438447187191170*y^2 - 0.691172914453894*x + 5.61447058967498*y - 12.0000000000000 == 0"
      ]
     },
     "metadata": {},
     "output_type": "display_data"
    }
   ],
   "source": [
    "almost = a0\n",
    "bas = [x,y,z]\n",
    "for i in range(len(bas)):\n",
    "    almost += D[i][i] * bas[i] ^ 2 + B1[i] * bas[i]\n",
    "show(almost == 0)"
   ]
  },
  {
   "cell_type": "markdown",
   "metadata": {},
   "source": [
    "### Приведенное уравнение"
   ]
  },
  {
   "cell_type": "code",
   "execution_count": 46,
   "metadata": {
    "scrolled": true
   },
   "outputs": [
    {
     "data": {
      "text/html": [
       "<html><script type=\"math/tex; mode=display\">\\newcommand{\\Bold}[1]{\\mathbf{#1}}-0.760258802134805 \\, x^{2} - 0.0730745311985283 \\, {\\left(y - 6.40267602769109\\right)}^{2} - 0.115195485742316 \\, x + 0.995636354390720 = 0</script></html>"
      ],
      "text/latex": [
       "\\begin{math}\n",
       "\\newcommand{\\Bold}[1]{\\mathbf{#1}}-0.760258802134805 \\, x^{2} - 0.0730745311985283 \\, {\\left(y - 6.40267602769109\\right)}^{2} - 0.115195485742316 \\, x + 0.995636354390720 = 0\n",
       "\\end{math}"
      ],
      "text/plain": [
       "-0.760258802134805*x^2 - 0.0730745311985283*(y - 6.40267602769109)^2 - 0.115195485742316*x + 0.995636354390720 == 0"
      ]
     },
     "metadata": {},
     "output_type": "display_data"
    }
   ],
   "source": [
    "res = 0\n",
    "a1 = a0\n",
    "for i in range(len(bas)):\n",
    "    if D[i][i] != 0:\n",
    "        res += D[i][i] * (bas[i] + (B1[i]/2) / D[i][i])^2\n",
    "        a1 -= D[i][i] * ((B1[i]/2) / D[i][i])^2\n",
    "    else:\n",
    "        res += B1[i] * bas[i]\n",
    "res = (res + a1) / a1\n",
    "show(res == 0)   "
   ]
  },
  {
   "cell_type": "markdown",
   "metadata": {},
   "source": [
    "### Исходный график"
   ]
  },
  {
   "cell_type": "code",
   "execution_count": null,
   "metadata": {},
   "outputs": [],
   "source": [
    "u(x, y, z) = -2*y^2 + 4*y*z - 3*z^2 + 4*y + 4*z - 12\n",
    "implicit_plot3d(u(x,y,z), (x, -10, 10), (y, -10, 10), (z, -10, 10), plot_points = 100)"
   ]
  },
  {
   "cell_type": "markdown",
   "metadata": {},
   "source": [
    "### График канонического уравнения"
   ]
  },
  {
   "cell_type": "code",
   "execution_count": null,
   "metadata": {},
   "outputs": [],
   "source": [
    "implicit_plot3d(res, (x, -10, 10), (y, -10, 11), (z, -10, 10), plot_points = 100)"
   ]
  },
  {
   "cell_type": "code",
   "execution_count": null,
   "metadata": {},
   "outputs": [],
   "source": []
  },
  {
   "cell_type": "code",
   "execution_count": null,
   "metadata": {},
   "outputs": [],
   "source": []
  }
 ],
 "metadata": {
  "kernelspec": {
   "display_name": "SageMath 9.2",
   "language": "sage",
   "name": "sagemath"
  },
  "language_info": {
   "codemirror_mode": {
    "name": "ipython",
    "version": 3
   },
   "file_extension": ".py",
   "mimetype": "text/x-python",
   "name": "python",
   "nbconvert_exporter": "python",
   "pygments_lexer": "ipython3",
   "version": "3.8.5"
  }
 },
 "nbformat": 4,
 "nbformat_minor": 4
}
